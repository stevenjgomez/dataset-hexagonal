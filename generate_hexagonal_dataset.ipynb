{
 "cells": [
  {
   "cell_type": "markdown",
   "id": "e1ad2d56-8273-4878-9629-f22d25570058",
   "metadata": {},
   "source": [
    "# Generate hexagonal dataset"
   ]
  },
  {
   "cell_type": "code",
   "execution_count": 1,
   "id": "72e8c3c4-42ad-43b9-9cb8-930304c9c324",
   "metadata": {},
   "outputs": [],
   "source": [
    "import os\n",
    "import zipfile\n",
    "\n",
    "import numpy as np\n",
    "from nexusformat.nexus import *\n",
    "import matplotlib.pyplot as plt"
   ]
  },
  {
   "cell_type": "code",
   "execution_count": 2,
   "id": "2e084809-579e-4498-b2e8-5a964484942f",
   "metadata": {},
   "outputs": [],
   "source": [
    "# Base directory\n",
    "base_dir = \"data\"\n",
    "\n",
    "xs = [15,300]\n",
    "\n",
    "# Create the folders\n",
    "for x in xs:\n",
    "    folder_name = f\"{x}\"  # Format x to one decimal place\n",
    "    full_path = os.path.join(base_dir, folder_name)\n",
    "    os.makedirs(full_path, exist_ok=True)"
   ]
  },
  {
   "cell_type": "code",
   "execution_count": 3,
   "id": "09cae8b5-933d-4b94-8be4-f95f64e46fcb",
   "metadata": {},
   "outputs": [
    {
     "name": "stdout",
     "output_type": "stream",
     "text": [
      "Saved 15 K data\n",
      "Saved 300 K data\n"
     ]
    }
   ],
   "source": [
    "for idx, T in enumerate(xs):\n",
    "    # Create array\n",
    "    array_size = (100, 150, 200)\n",
    "    array = np.zeros(array_size)\n",
    "    \n",
    "    # Create coordinates\n",
    "    x, y, z = np.meshgrid(np.linspace(-1.5, 1.5, array_size[0]),  # size of grid in real units\n",
    "                          np.linspace(-1.5, 1.5, array_size[1]),\n",
    "                          np.linspace(-1.5, 1.5, array_size[2]),\n",
    "                          indexing='ij')\n",
    "    \n",
    "    # Grid parameters\n",
    "    int_positions = [-1,0,1]  # integer crystallographic positions\n",
    "    std_dev = 0.025  # in absolute coordinates (real units)\n",
    "    amplitude_int = 1.0\n",
    "\n",
    "    # Add integer-position Gaussians\n",
    "    for i in int_positions:\n",
    "        for j in int_positions:\n",
    "            for k in int_positions:\n",
    "                mean = (i, j, k)\n",
    "                gaussian = amplitude_int * np.exp(-((x - mean[0]) ** 2 +\n",
    "                                                    (x - mean[0]) * (y - mean[1]) +\n",
    "                                                    (y - mean[1]) ** 2 +\n",
    "                                                    (z - mean[2]) ** 2) / (2 * std_dev ** 2))\n",
    "                array += gaussian\n",
    "\n",
    "    # Construct NXdata with Q from -1.5 to 1.5 reciprocal lattice units\n",
    "    H = NXfield(np.linspace(-1.5, 1.5, array.shape[0]), name='Qh')\n",
    "    K = NXfield(np.linspace(-1.5, 1.5, array.shape[1]), name='Qk')\n",
    "    L = NXfield(np.linspace(-1.5, 1.5, array.shape[2]), name='Ql')\n",
    "\n",
    "    out_data = NXdata(NXfield(array.transpose(2, 1, 0)*1e5, name='v'))\n",
    "\n",
    "    # Save\n",
    "    nxsave(f'data/{T}/transform.nxs', out_data)\n",
    "    print(f'Saved {T} K data')\n"
   ]
  },
  {
   "cell_type": "code",
   "execution_count": 6,
   "id": "2e78f30e-30bc-4ad0-ac78-4022d12d1529",
   "metadata": {},
   "outputs": [
    {
     "name": "stdout",
     "output_type": "stream",
     "text": [
      "root:NXroot\n",
      "  entry:NXentry\n",
      "    transform:NXdata\n",
      "      @angles = [90.0, 90.0, 90.0]\n",
      "      @axes = ['Ql', 'Qk', 'Qh']\n",
      "      @signal = 'data'\n",
      "      Qh = float64(100)\n",
      "      Qk = float64(150)\n",
      "      Ql = float64(200)\n",
      "      data -> 15/transform.nxs['/entry/data/v']\n",
      "      title = '15.000K Transform'\n",
      "root:NXroot\n",
      "  entry:NXentry\n",
      "    transform:NXdata\n",
      "      @angles = [90.0, 90.0, 90.0]\n",
      "      @axes = ['Ql', 'Qk', 'Qh']\n",
      "      @signal = 'data'\n",
      "      Qh = float64(100)\n",
      "      Qk = float64(150)\n",
      "      Ql = float64(200)\n",
      "      data -> 300/transform.nxs['/entry/data/v']\n",
      "      title = '300.000K Transform'\n"
     ]
    }
   ],
   "source": [
    "for i,T in enumerate(xs):\n",
    "    main_file = NXroot()\n",
    "    main_file['entry'] = NXentry()\n",
    "    main_file['entry']['transform'] = NXdata(NXlink(name='data',\n",
    "                                               target='/entry/data/v',\n",
    "                                               file=f'{T}/transform.nxs'), [L, K, H])\n",
    "    main_file.entry.transform.attrs['angles'] = [90.,90.,90.]\n",
    "    main_file.entry.transform.attrs['signal'] = 'data'\n",
    "    main_file.entry.transform['title'] = f'{T}.000K Transform'\n",
    "    print(main_file.tree)\n",
    "    nxsave(f'data/hexagonal_{T}.nxs', main_file)"
   ]
  },
  {
   "cell_type": "code",
   "execution_count": 5,
   "id": "24738d16",
   "metadata": {},
   "outputs": [],
   "source": [
    "np.savetxt('temperatures.csv', xs, fmt='%d', delimiter=',')"
   ]
  },
  {
   "cell_type": "code",
   "execution_count": null,
   "id": "bd0534cb",
   "metadata": {},
   "outputs": [],
   "source": []
  }
 ],
 "metadata": {
  "kernelspec": {
   "display_name": "nxs",
   "language": "python",
   "name": "python3"
  },
  "language_info": {
   "codemirror_mode": {
    "name": "ipython",
    "version": 3
   },
   "file_extension": ".py",
   "mimetype": "text/x-python",
   "name": "python",
   "nbconvert_exporter": "python",
   "pygments_lexer": "ipython3",
   "version": "3.13.2"
  }
 },
 "nbformat": 4,
 "nbformat_minor": 5
}
